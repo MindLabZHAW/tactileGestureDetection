{
 "cells": [
  {
   "cell_type": "code",
   "execution_count": 2,
   "metadata": {},
   "outputs": [
    {
     "ename": "ResourceNotFound",
     "evalue": "franka_interface_msgs\nROS path [0]=/opt/ros/noetic/share/ros\nROS path [1]=/opt/ros/noetic/share",
     "output_type": "error",
     "traceback": [
      "\u001b[0;31m---------------------------------------------------------------------------\u001b[0m",
      "\u001b[0;31mResourceNotFound\u001b[0m                          Traceback (most recent call last)",
      "Input \u001b[0;32mIn [2]\u001b[0m, in \u001b[0;36m<cell line: 2>\u001b[0;34m()\u001b[0m\n\u001b[1;32m      1\u001b[0m \u001b[38;5;28;01mimport\u001b[39;00m \u001b[38;5;21;01mtime\u001b[39;00m\n\u001b[0;32m----> 2\u001b[0m \u001b[38;5;28;01mfrom\u001b[39;00m \u001b[38;5;21;01mfrankapy\u001b[39;00m \u001b[38;5;28;01mimport\u001b[39;00m FrankaArm\n",
      "File \u001b[0;32m~/contactInterpretation/robotAPI/frankapy/frankapy/__init__.py:1\u001b[0m, in \u001b[0;36m<module>\u001b[0;34m\u001b[0m\n\u001b[0;32m----> 1\u001b[0m \u001b[38;5;28;01mfrom\u001b[39;00m \u001b[38;5;21;01m.\u001b[39;00m\u001b[38;5;21;01mfranka_arm\u001b[39;00m \u001b[38;5;28;01mimport\u001b[39;00m FrankaArm\n\u001b[1;32m      2\u001b[0m \u001b[38;5;28;01mfrom\u001b[39;00m \u001b[38;5;21;01m.\u001b[39;00m\u001b[38;5;21;01mfranka_constants\u001b[39;00m \u001b[38;5;28;01mimport\u001b[39;00m FrankaConstants\n\u001b[1;32m      3\u001b[0m \u001b[38;5;28;01mfrom\u001b[39;00m \u001b[38;5;21;01m.\u001b[39;00m\u001b[38;5;21;01mfranka_arm_state_client\u001b[39;00m \u001b[38;5;28;01mimport\u001b[39;00m FrankaArmStateClient\n",
      "File \u001b[0;32m~/contactInterpretation/robotAPI/frankapy/frankapy/franka_arm.py:15\u001b[0m, in \u001b[0;36m<module>\u001b[0;34m\u001b[0m\n\u001b[1;32m     12\u001b[0m \u001b[38;5;28;01mfrom\u001b[39;00m \u001b[38;5;21;01mitertools\u001b[39;00m \u001b[38;5;28;01mimport\u001b[39;00m product\n\u001b[1;32m     14\u001b[0m \u001b[38;5;28;01mimport\u001b[39;00m \u001b[38;5;21;01mroslib\u001b[39;00m\n\u001b[0;32m---> 15\u001b[0m \u001b[43mroslib\u001b[49m\u001b[38;5;241;43m.\u001b[39;49m\u001b[43mload_manifest\u001b[49m\u001b[43m(\u001b[49m\u001b[38;5;124;43m'\u001b[39;49m\u001b[38;5;124;43mfranka_interface_msgs\u001b[39;49m\u001b[38;5;124;43m'\u001b[39;49m\u001b[43m)\u001b[49m\n\u001b[1;32m     16\u001b[0m \u001b[38;5;28;01mimport\u001b[39;00m \u001b[38;5;21;01mrospy\u001b[39;00m\n\u001b[1;32m     17\u001b[0m \u001b[38;5;28;01mfrom\u001b[39;00m \u001b[38;5;21;01mactionlib\u001b[39;00m \u001b[38;5;28;01mimport\u001b[39;00m SimpleActionClient\n",
      "File \u001b[0;32m/opt/ros/noetic/lib/python3/dist-packages/roslib/launcher.py:64\u001b[0m, in \u001b[0;36mload_manifest\u001b[0;34m(package_name, bootstrap_version)\u001b[0m\n\u001b[1;32m     62\u001b[0m \u001b[38;5;28;01mif\u001b[39;00m package_name \u001b[38;5;129;01min\u001b[39;00m _bootstrapped:\n\u001b[1;32m     63\u001b[0m     \u001b[38;5;28;01mreturn\u001b[39;00m\n\u001b[0;32m---> 64\u001b[0m sys\u001b[38;5;241m.\u001b[39mpath \u001b[38;5;241m=\u001b[39m \u001b[43m_generate_python_path\u001b[49m\u001b[43m(\u001b[49m\u001b[43mpackage_name\u001b[49m\u001b[43m,\u001b[49m\u001b[43m \u001b[49m\u001b[43m_rospack\u001b[49m\u001b[43m)\u001b[49m \u001b[38;5;241m+\u001b[39m sys\u001b[38;5;241m.\u001b[39mpath\n",
      "File \u001b[0;32m/opt/ros/noetic/lib/python3/dist-packages/roslib/launcher.py:97\u001b[0m, in \u001b[0;36m_generate_python_path\u001b[0;34m(pkg, rospack)\u001b[0m\n\u001b[1;32m     94\u001b[0m     \u001b[38;5;28;01mreturn\u001b[39;00m []\n\u001b[1;32m     96\u001b[0m \u001b[38;5;66;03m# short-circuit if this is a catkin-ized package\u001b[39;00m\n\u001b[0;32m---> 97\u001b[0m m \u001b[38;5;241m=\u001b[39m \u001b[43mrospack\u001b[49m\u001b[38;5;241;43m.\u001b[39;49m\u001b[43mget_manifest\u001b[49m\u001b[43m(\u001b[49m\u001b[43mpkg\u001b[49m\u001b[43m)\u001b[49m\n\u001b[1;32m     98\u001b[0m \u001b[38;5;28;01mif\u001b[39;00m m\u001b[38;5;241m.\u001b[39mis_catkin:\n\u001b[1;32m     99\u001b[0m     _bootstrapped\u001b[38;5;241m.\u001b[39mappend(pkg)\n",
      "File \u001b[0;32m~/miniconda/envs/frankapyenv/lib/python3.9/site-packages/rospkg/rospack.py:171\u001b[0m, in \u001b[0;36mManifestManager.get_manifest\u001b[0;34m(self, name)\u001b[0m\n\u001b[1;32m    169\u001b[0m     \u001b[38;5;28;01mreturn\u001b[39;00m \u001b[38;5;28mself\u001b[39m\u001b[38;5;241m.\u001b[39m_manifests[name]\n\u001b[1;32m    170\u001b[0m \u001b[38;5;28;01melse\u001b[39;00m:\n\u001b[0;32m--> 171\u001b[0m     \u001b[38;5;28;01mreturn\u001b[39;00m \u001b[38;5;28;43mself\u001b[39;49m\u001b[38;5;241;43m.\u001b[39;49m\u001b[43m_load_manifest\u001b[49m\u001b[43m(\u001b[49m\u001b[43mname\u001b[49m\u001b[43m)\u001b[49m\n",
      "File \u001b[0;32m~/miniconda/envs/frankapyenv/lib/python3.9/site-packages/rospkg/rospack.py:215\u001b[0m, in \u001b[0;36mManifestManager._load_manifest\u001b[0;34m(self, name)\u001b[0m\n\u001b[1;32m    211\u001b[0m \u001b[38;5;28;01mdef\u001b[39;00m \u001b[38;5;21m_load_manifest\u001b[39m(\u001b[38;5;28mself\u001b[39m, name):\n\u001b[1;32m    212\u001b[0m \u001b[38;5;250m    \u001b[39m\u001b[38;5;124;03m\"\"\"\u001b[39;00m\n\u001b[1;32m    213\u001b[0m \u001b[38;5;124;03m    :raises: :exc:`ResourceNotFound`\u001b[39;00m\n\u001b[1;32m    214\u001b[0m \u001b[38;5;124;03m    \"\"\"\u001b[39;00m\n\u001b[0;32m--> 215\u001b[0m     retval \u001b[38;5;241m=\u001b[39m \u001b[38;5;28mself\u001b[39m\u001b[38;5;241m.\u001b[39m_manifests[name] \u001b[38;5;241m=\u001b[39m parse_manifest_file(\u001b[38;5;28;43mself\u001b[39;49m\u001b[38;5;241;43m.\u001b[39;49m\u001b[43mget_path\u001b[49m\u001b[43m(\u001b[49m\u001b[43mname\u001b[49m\u001b[43m)\u001b[49m, \u001b[38;5;28mself\u001b[39m\u001b[38;5;241m.\u001b[39m_manifest_name, rospack\u001b[38;5;241m=\u001b[39m\u001b[38;5;28mself\u001b[39m)\n\u001b[1;32m    216\u001b[0m     \u001b[38;5;28;01mreturn\u001b[39;00m retval\n",
      "File \u001b[0;32m~/miniconda/envs/frankapyenv/lib/python3.9/site-packages/rospkg/rospack.py:207\u001b[0m, in \u001b[0;36mManifestManager.get_path\u001b[0;34m(self, name)\u001b[0m\n\u001b[1;32m    205\u001b[0m \u001b[38;5;28mself\u001b[39m\u001b[38;5;241m.\u001b[39m_update_location_cache()\n\u001b[1;32m    206\u001b[0m \u001b[38;5;28;01mif\u001b[39;00m name \u001b[38;5;129;01mnot\u001b[39;00m \u001b[38;5;129;01min\u001b[39;00m \u001b[38;5;28mself\u001b[39m\u001b[38;5;241m.\u001b[39m_location_cache:\n\u001b[0;32m--> 207\u001b[0m     \u001b[38;5;28;01mraise\u001b[39;00m ResourceNotFound(name, ros_paths\u001b[38;5;241m=\u001b[39m\u001b[38;5;28mself\u001b[39m\u001b[38;5;241m.\u001b[39m_ros_paths)\n\u001b[1;32m    208\u001b[0m \u001b[38;5;28;01melse\u001b[39;00m:\n\u001b[1;32m    209\u001b[0m     \u001b[38;5;28;01mreturn\u001b[39;00m \u001b[38;5;28mself\u001b[39m\u001b[38;5;241m.\u001b[39m_location_cache[name]\n",
      "\u001b[0;31mResourceNotFound\u001b[0m: franka_interface_msgs\nROS path [0]=/opt/ros/noetic/share/ros\nROS path [1]=/opt/ros/noetic/share"
     ]
    }
   ],
   "source": [
    "import time\n",
    "from frankapy import FrankaArm"
   ]
  },
  {
   "cell_type": "code",
   "execution_count": null,
   "metadata": {},
   "outputs": [],
   "source": [
    "def main():\n",
    "    # 创建FrankaArm实例\n",
    "    fa = FrankaArm()\n",
    "\n",
    "    try:\n",
    "        # 不断获取机器人状态\n",
    "        while True:\n",
    "            # 获取当前机器人状态\n",
    "            robot_state = fa.get_robot_state()\n",
    "\n",
    "            # 打印一些关节信息作为示例\n",
    "            print(\"关节位置: \", robot_state.q)\n",
    "            print(\"关节速度: \", robot_state.dq)\n",
    "            print(\"末端执行器位置: \", robot_state.O_T_EE)\n",
    "\n",
    "            # 设置一个间隔时间，例如0.1秒\n",
    "            time.sleep(0.1)\n",
    "    except KeyboardInterrupt:\n",
    "        print(\"停止机器人状态获取\")\n",
    "    finally:\n",
    "        # 关闭机器人连接\n",
    "        fa.stop_skill()"
   ]
  },
  {
   "cell_type": "code",
   "execution_count": null,
   "metadata": {},
   "outputs": [],
   "source": [
    "if __name__ == '__main__':\n",
    "    main()"
   ]
  }
 ],
 "metadata": {
  "kernelspec": {
   "display_name": "frankapyenv",
   "language": "python",
   "name": "python3"
  },
  "language_info": {
   "codemirror_mode": {
    "name": "ipython",
    "version": 3
   },
   "file_extension": ".py",
   "mimetype": "text/x-python",
   "name": "python",
   "nbconvert_exporter": "python",
   "pygments_lexer": "ipython3",
   "version": "3.9.19"
  }
 },
 "nbformat": 4,
 "nbformat_minor": 2
}
