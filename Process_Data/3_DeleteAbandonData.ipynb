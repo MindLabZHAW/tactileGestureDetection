{
 "cells": [
  {
   "cell_type": "code",
   "execution_count": 3,
   "metadata": {},
   "outputs": [
    {
     "name": "stdout",
     "output_type": "stream",
     "text": [
      "labeled_tactile_dataset_clean.csv 文件已生成在/Users/shangyu/Documents/GitHub/tactileGestureDetection/DATA/labeled_tactile_dataset_clean.csv\n"
     ]
    }
   ],
   "source": [
    "# delete 'block_id' == -1 （即touch_type 为ST_abandon 和 NC_abandon）的数据\n",
    "import os\n",
    "import pandas as pd\n",
    "\n",
    "\n",
    "out_path =  \"/Users/shangyu/Documents/GitHub/tactileGestureDetection/DATA/\"\n",
    "data = pd.read_csv(\"/Users/shangyu/Documents/GitHub/tactileGestureDetection/DATA/labeled_tactile_dataset.csv\")\n",
    "\n",
    "clean_data = data[data['block_id']!= -1].copy()\n",
    "\n",
    "output_path = os.path.join(out_path, \"labeled_tactile_dataset_clean.csv\")\n",
    "        \n",
    "if os.path.exists(output_path):\n",
    "    os.remove(output_path)\n",
    "        \n",
    "clean_data.to_csv(output_path, index=False)\n",
    "\n",
    "print(f\"labeled_tactile_dataset_clean.csv 文件已生成在{output_path}\")"
   ]
  },
  {
   "cell_type": "code",
   "execution_count": 4,
   "metadata": {},
   "outputs": [
    {
     "name": "stdout",
     "output_type": "stream",
     "text": [
      "touch_type\n",
      "DT    150\n",
      "G      75\n",
      "NC      1\n",
      "P      76\n",
      "ST    150\n",
      "Name: block_id, dtype: int64\n"
     ]
    }
   ],
   "source": [
    "# 验证\n",
    "dt = pd.read_csv(\"/Users/shangyu/Documents/GitHub/tactileGestureDetection/DATA/labeled_tactile_dataset_clean.csv\")\n",
    "print(dt.groupby('touch_type')['block_id'].nunique())"
   ]
  }
 ],
 "metadata": {
  "kernelspec": {
   "display_name": "base",
   "language": "python",
   "name": "python3"
  },
  "language_info": {
   "codemirror_mode": {
    "name": "ipython",
    "version": 3
   },
   "file_extension": ".py",
   "mimetype": "text/x-python",
   "name": "python",
   "nbconvert_exporter": "python",
   "pygments_lexer": "ipython3",
   "version": "3.10.9"
  }
 },
 "nbformat": 4,
 "nbformat_minor": 2
}
