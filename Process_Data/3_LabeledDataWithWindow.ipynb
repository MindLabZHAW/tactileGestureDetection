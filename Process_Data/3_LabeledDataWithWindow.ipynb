{
 "cells": [
  {
   "cell_type": "code",
   "execution_count": 2,
   "metadata": {},
   "outputs": [],
   "source": [
    "import os\n",
    "import pandas as pd\n",
    "\n",
    "global_window_id = 0\n",
    "\n",
    "def process_labeled_data(file_path,window_size,step_size):\n",
    "    \"\"\"dealing with labeled_data.csv, splide data based on window\"\"\"\n",
    "    global global_window_id\n",
    "    df = pd.read_csv(file_path)\n",
    "    tactile_contact_df = pd.read_csv(\"../DATA/tactile_dataset_contact.csv\")\n",
    "\n",
    "    windowed_data = []\n",
    "\n",
    "    for start in range(0, len(df) - window_size + 1, step_size):\n",
    "        end = start + window_size\n",
    "        window = df.iloc[start:end].copy()\n",
    "        window['window_id'] = global_window_id\n",
    "        global_window_id += 1\n",
    "\n",
    "        if (window['label'] == 0).all():\n",
    "            window['tactile_type_window'] = 'NC'\n",
    "            window['contact_id'] = None\n",
    "        else:\n",
    "            window_start_time = window.iloc[0]['time']\n",
    "            window_end_time = window.iloc[-1]['time']\n",
    "            matching_contacts = tactile_contact_df[\n",
    "                (tactile_contact_df['time'] >= window_start_time) & \n",
    "                (tactile_contact_df['time'] <= window_end_time)\n",
    "            ]\n",
    "\n",
    "            if not matching_contacts.empty:\n",
    "                window['tactile_type_window'] = matching_contacts.iloc[0]['touch_type']\n",
    "                window['contact_id'] = matching_contacts.iloc[0]['contact_id']\n",
    "            else:\n",
    "                window['tactile_type_window'] = 'NC'\n",
    "                window['contact_id'] = None\n",
    "        \n",
    "        windowed_data.append(window)\n",
    "    \n",
    "    return windowed_data\n",
    "\n",
    "def process_single_folder(data_folder, folder_name, window_size, step_size):\n",
    "    \"\"\"处理指定文件夹下的labeled_data.csv，生成窗口化数据\"\"\"\n",
    "    folder_path = os.path.join(data_folder, folder_name)\n",
    "    \n",
    "    if os.path.isdir(folder_path):  # Check if it's a directory\n",
    "        file_path = os.path.join(folder_path, 'labeled_data.csv')\n",
    "        \n",
    "        if os.path.isfile(file_path):\n",
    "            # tactile_type = folder_name.split('-')[1][1:]\n",
    "            windowed_data = process_labeled_data(file_path, window_size, step_size)\n",
    "            return windowed_data\n",
    "        else:\n",
    "            print(f\"文件夹 {folder_name} 下没有找到labeled_data.csv文件\")\n",
    "            return []\n",
    "    else:\n",
    "        print(f\"{folder_name} 不是有效的文件夹\")\n",
    "        return []\n",
    "\n",
    "\n",
    "def process_all_folders(data_folder, output_file, window_size, step_size):\n",
    "    \"\"\"处理所有子文件夹，合并所有窗口化数据，生成labeled_data_window.csv文件\"\"\"\n",
    "    all_windowed_data = []\n",
    "    \n",
    "    for folder_name in os.listdir(data_folder):\n",
    "        folder_windowed_data = process_single_folder(data_folder, folder_name, window_size, step_size)\n",
    "        all_windowed_data.extend(folder_windowed_data)\n",
    "    \n",
    "    if all_windowed_data:\n",
    "        result_df = pd.concat(all_windowed_data, ignore_index=True)\n",
    "        output_path = os.path.join(output_file, 'labeled_data_window.csv')\n",
    "        \n",
    "        # 删除已存在的文件\n",
    "        if os.path.exists(output_path):\n",
    "            os.remove(output_path)\n",
    "        \n",
    "        # 保存新文件\n",
    "        result_df.to_csv(output_path, index=False)\n",
    "        print(f\"{output_path} 文件已生成，包含 {len(result_df)} 行数据\")\n",
    "    else:\n",
    "        print(\"没有数据块被处理\")\n"
   ]
  },
  {
   "cell_type": "code",
   "execution_count": 3,
   "metadata": {},
   "outputs": [
    {
     "name": "stdout",
     "output_type": "stream",
     "text": [
      "../DATA/labeled_data_window.csv 文件已生成，包含 509208 行数据\n"
     ]
    }
   ],
   "source": [
    "data_folder = '../DATA/Labeled_data'\n",
    "output_file = '../DATA/'\n",
    "window_size = 28\n",
    "step_size = 14  # 前移步长\n",
    "\n",
    "# 处理所有文件夹并生成最终输出\n",
    "process_all_folders(data_folder, output_file, window_size, step_size)"
   ]
  },
  {
   "cell_type": "code",
   "execution_count": 4,
   "metadata": {},
   "outputs": [
    {
     "name": "stdout",
     "output_type": "stream",
     "text": [
      "当前路径是：../DATA/Labeled_data/0724-7DT-Y1/labeled_data.csv\n",
      "当前文件共有23022行\n",
      "目前共有23022 行\n",
      "当前路径是：../DATA/Labeled_data/0724-7ST-Y1/labeled_data.csv\n",
      "当前文件共有30682行\n",
      "目前共有53704 行\n",
      "当前路径是：../DATA/Labeled_data/0724-7ST-S1/labeled_data.csv\n",
      "当前文件共有20499行\n",
      "目前共有74203 行\n",
      "当前路径是：../DATA/Labeled_data/0724-7DT-S1/labeled_data.csv\n"
     ]
    },
    {
     "name": "stdout",
     "output_type": "stream",
     "text": [
      "当前文件共有23775行\n",
      "目前共有97978 行\n",
      "当前路径是：../DATA/Labeled_data/0820-0NC-Y/labeled_data.csv\n",
      "当前文件共有58803行\n",
      "目前共有156781 行\n",
      "当前路径是：../DATA/Labeled_data/0724-7P-Y1/labeled_data.csv\n",
      "当前文件共有26122行\n",
      "目前共有182903 行\n",
      "当前路径是：../DATA/Labeled_data/0724-7P-S1/labeled_data.csv\n",
      "当前文件共有18024行\n",
      "目前共有200927 行\n",
      "当前路径是：../DATA/Labeled_data/0724-7G-S1/labeled_data.csv\n",
      "当前文件共有22884行\n",
      "目前共有223811 行\n",
      "当前路径是：../DATA/Labeled_data/0724-7G-Y1/labeled_data.csv\n",
      "当前文件共有30971行\n",
      "目前共有254782 行\n",
      "共有254782 行\n"
     ]
    }
   ],
   "source": [
    "# 先验证文件总行数是否一致，应是原来数据行数的两倍\n",
    "data_folder = '../DATA/Labeled_data'\n",
    "total_row = 0\n",
    "for folder_name in os.listdir(data_folder):\n",
    "    folder_path = os.path.join(data_folder,folder_name)\n",
    "    file_path = os.path.join(folder_path,'labeled_data.csv')\n",
    "    print(f\"当前路径是：{file_path}\")\n",
    "\n",
    "    if os.path.isfile(file_path):\n",
    "        df = pd.read_csv(file_path)\n",
    "        row_count = len(df)\n",
    "        print(f\"当前文件共有{row_count}行\")\n",
    "        total_row += row_count\n",
    "        print(f\"目前共有{total_row} 行\")\n",
    "print(f\"共有{total_row} 行\")"
   ]
  },
  {
   "cell_type": "code",
   "execution_count": 5,
   "metadata": {},
   "outputs": [
    {
     "name": "stdout",
     "output_type": "stream",
     "text": [
      "[ nan   0.   1.   2.   3.   4.   5.   6.   7.   8.   9.  10.  11.  12.\n",
      "  13.  14.  15.  16.  17.  18.  19.  20.  21.  22.  23.  24.  25.  26.\n",
      "  27.  28.  29.  30.  31.  32.  33.  34.  35.  36.  37.  38.  39.  40.\n",
      "  41.  42.  43.  44.  45.  46.  47.  48.  49.  50.  51.  52.  53.  54.\n",
      "  55.  56.  57.  58.  59.  60.  61.  62.  63.  65.  66.  67.  68.  69.\n",
      "  70.  71.  72.  73.  74.  75.  76.  77.  78.  79.  80.  81.  82.  83.\n",
      "  84.  85.  86.  87.  88.  89.  90.  91.  92.  94.  95.  96.  98.  99.\n",
      " 100. 101. 102. 103. 104. 105. 106. 107. 108. 109. 110. 111. 112. 113.\n",
      " 114. 115. 116. 117. 118. 119. 120. 121. 122. 123. 124. 125. 126. 127.\n",
      " 128. 130. 131. 132. 133. 134. 135. 136. 137. 138. 140. 142. 144. 145.\n",
      " 146. 147. 149. 150. 151. 152. 153. 154. 155. 156. 157. 158. 159. 161.\n",
      " 162. 163. 164. 165. 166. 167. 168. 169. 170. 171. 172. 173. 174. 175.\n",
      " 178. 179. 181. 182. 183. 184. 185. 187. 188. 189. 190. 191. 192. 194.\n",
      " 195. 196. 197. 198. 199. 201. 202. 203. 204. 206. 207. 208. 209. 210.\n",
      " 211. 213. 214. 215. 216. 217. 218. 219. 220. 221. 222. 225. 226. 227.\n",
      " 228. 229. 230. 231. 232. 233. 235. 236. 237. 238. 239. 240. 241. 242.\n",
      " 243. 244. 245. 246. 247. 249. 250. 251. 252. 253. 254. 255. 256. 257.\n",
      " 259. 260. 261. 262. 263. 264. 266. 267. 268. 269. 270. 271. 273. 274.\n",
      " 276. 277. 278. 279. 280. 282. 283. 284. 285. 287. 288. 289. 290. 291.\n",
      " 292. 293. 294. 295. 296. 297. 298. 301. 302. 303. 304. 305. 306. 307.\n",
      " 308. 309. 310. 311. 312. 313. 314. 315. 316. 318. 319. 320. 321. 322.\n",
      " 324. 325. 326. 327. 328. 329. 330. 331. 332. 334. 335. 336. 337. 338.\n",
      " 339. 340. 341. 342. 343. 344. 345. 346. 347. 349. 350. 351. 352. 353.\n",
      " 354. 355. 356. 357. 359. 360. 361. 363. 364. 365. 366. 367. 368. 369.\n",
      " 370. 371. 372. 373. 374. 375. 376. 377. 378. 379. 380. 381. 382. 383.\n",
      " 384. 385. 386. 387. 388. 389. 390. 391. 392. 393. 394. 395. 396. 397.\n",
      " 398. 399. 400. 401. 402. 403. 404. 405. 406. 407. 408. 409. 411. 412.\n",
      " 413. 414. 415. 416. 417. 418. 419. 420. 421. 422. 423. 424. 425. 426.\n",
      " 427. 428. 429. 430. 432. 433. 434. 435. 436. 234. 437. 438. 439. 440.\n",
      " 441. 442. 443. 444. 445. 446. 447. 448. 449. 450. 456. 457. 463. 467.\n",
      " 470. 471. 472. 473. 474. 479. 480. 482. 484. 485. 486. 487. 488. 489.\n",
      " 490. 492. 494. 495. 496. 497. 498. 499. 500. 501. 502. 503. 504. 505.\n",
      " 506. 507. 508. 509. 510.]\n"
     ]
    }
   ],
   "source": [
    "#验证\n",
    "\n",
    "window_data= pd.read_csv(\"/Users/shangyu/Documents/GitHub/tactileGestureDetection/DATA/labeled_data_window.csv\")\n",
    "window_data.columns\n",
    "window_data.head()\n",
    "grouped_data = window_data.groupby(['window_id','tactile_type_window'])\n",
    "grouped_data\n",
    "# for name, group in grouped_data:\n",
    "#     print(f\"Group name: {name}\")\n",
    "#     print(group)\n",
    "\n",
    "contact_count = window_data['contact_id'].unique()\n",
    "print(contact_count)\n",
    "# print(f\"there are {len(contact_count)} contact block\") # 453-511=58 少了58个contact block, 为什么？"
   ]
  },
  {
   "cell_type": "code",
   "execution_count": 4,
   "metadata": {},
   "outputs": [
    {
     "name": "stdout",
     "output_type": "stream",
     "text": [
      "there are 511 contact block\n"
     ]
    }
   ],
   "source": [
    "contact_data= pd.read_csv(\"/Users/shangyu/Documents/GitHub/tactileGestureDetection/DATA/tactile_dataset_contact.csv\")\n",
    "contact_counts = contact_data['contact_id'].nunique()\n",
    "print(f\"there are {contact_counts} contact block\")"
   ]
  },
  {
   "cell_type": "code",
   "execution_count": null,
   "metadata": {},
   "outputs": [],
   "source": [
    "# 单个文件验证\n"
   ]
  }
 ],
 "metadata": {
  "kernelspec": {
   "display_name": "base",
   "language": "python",
   "name": "python3"
  },
  "language_info": {
   "codemirror_mode": {
    "name": "ipython",
    "version": 3
   },
   "file_extension": ".py",
   "mimetype": "text/x-python",
   "name": "python",
   "nbconvert_exporter": "python",
   "pygments_lexer": "ipython3",
   "version": "3.10.9"
  }
 },
 "nbformat": 4,
 "nbformat_minor": 2
}
