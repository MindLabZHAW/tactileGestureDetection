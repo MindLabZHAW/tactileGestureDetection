{
 "cells": [
  {
   "cell_type": "code",
   "execution_count": 2,
   "metadata": {},
   "outputs": [],
   "source": [
    "import os\n",
    "import pandas as pd\n",
    "\n",
    "global_window_id = 0\n",
    "\n",
    "def process_labeled_data(file_path,window_size,step_size):\n",
    "    \"\"\"dealing with labeled_data.csv, splide data based on window\"\"\"\n",
    "    global global_window_id\n",
    "    df = pd.read_csv(file_path)\n",
    "    tactile_contact_df = pd.read_csv(\"../DATA/tactile_dataset_contact.csv\")\n",
    "\n",
    "    windowed_data = []\n",
    "\n",
    "    for start in range(0, len(df) - window_size + 1, step_size):\n",
    "        end = start + window_size\n",
    "        window = df.iloc[start:end].copy()\n",
    "        window['window_id'] = global_window_id\n",
    "        global_window_id += 1\n",
    "\n",
    "        if (window['label'] == 0).all():\n",
    "            window['tactile_type_window'] = 'NC'\n",
    "            window['contact_id'] = None\n",
    "        else:\n",
    "            window_start_time = window.iloc[0]['time']\n",
    "            window_end_time = window.iloc[-1]['time']\n",
    "            matching_contacts = tactile_contact_df[\n",
    "                (tactile_contact_df['time'] >= window_start_time) & \n",
    "                (tactile_contact_df['time'] <= window_end_time)\n",
    "            ]\n",
    "\n",
    "            if not matching_contacts.empty:\n",
    "                window['tactile_type_window'] = matching_contacts.iloc[0]['touch_type']\n",
    "                window['contact_id'] = matching_contacts.iloc[0]['contact_id']\n",
    "            else:\n",
    "                window['tactile_type_window'] = 'NC'\n",
    "                window['contact_id'] = None\n",
    "        \n",
    "        windowed_data.append(window)\n",
    "    \n",
    "    return windowed_data\n",
    "\n",
    "def process_single_folder(data_folder, folder_name, window_size, step_size):\n",
    "    \"\"\"处理指定文件夹下的labeled_data.csv，生成窗口化数据\"\"\"\n",
    "    folder_path = os.path.join(data_folder, folder_name)\n",
    "    \n",
    "    if os.path.isdir(folder_path):  # Check if it's a directory\n",
    "        file_path = os.path.join(folder_path, 'labeled_data.csv')\n",
    "        \n",
    "        if os.path.isfile(file_path):\n",
    "            # tactile_type = folder_name.split('-')[1][1:]\n",
    "            windowed_data = process_labeled_data(file_path, window_size, step_size)\n",
    "            return windowed_data\n",
    "        else:\n",
    "            print(f\"文件夹 {folder_name} 下没有找到labeled_data.csv文件\")\n",
    "            return []\n",
    "    else:\n",
    "        print(f\"{folder_name} 不是有效的文件夹\")\n",
    "        return []\n",
    "\n",
    "\n",
    "def process_all_folders(data_folder, output_file, window_size, step_size):\n",
    "    \"\"\"处理所有子文件夹，合并所有窗口化数据，生成labeled_data_window.csv文件\"\"\"\n",
    "    all_windowed_data = []\n",
    "    \n",
    "    for folder_name in os.listdir(data_folder):\n",
    "        folder_windowed_data = process_single_folder(data_folder, folder_name, window_size, step_size)\n",
    "        all_windowed_data.extend(folder_windowed_data)\n",
    "    \n",
    "    if all_windowed_data:\n",
    "        result_df = pd.concat(all_windowed_data, ignore_index=True)\n",
    "        output_path = os.path.join(output_file, 'labeled_data_window.csv')\n",
    "        \n",
    "        # 删除已存在的文件\n",
    "        if os.path.exists(output_path):\n",
    "            os.remove(output_path)\n",
    "        \n",
    "        # 保存新文件\n",
    "        result_df.to_csv(output_path, index=False)\n",
    "        print(f\"{output_path} 文件已生成，包含 {len(result_df)} 行数据\")\n",
    "    else:\n",
    "        print(\"没有数据块被处理\")\n"
   ]
  },
  {
   "cell_type": "code",
   "execution_count": 8,
   "metadata": {},
   "outputs": [
    {
     "name": "stdout",
     "output_type": "stream",
     "text": [
      ".DS_Store 不是有效的文件夹\n",
      "../DATA/labeled_data_window.csv 文件已生成，包含 509208 行数据\n"
     ]
    }
   ],
   "source": [
    "data_folder = '../DATA/Labeled_data'\n",
    "output_file = '../DATA/'\n",
    "window_size = 28\n",
    "step_size = 14  # 前移步长\n",
    "\n",
    "# 处理所有文件夹并生成最终输出\n",
    "process_all_folders(data_folder, output_file, window_size, step_size)"
   ]
  },
  {
   "cell_type": "code",
   "execution_count": 9,
   "metadata": {},
   "outputs": [
    {
     "name": "stdout",
     "output_type": "stream",
     "text": [
      "当前路径是：../DATA/Labeled_data/.DS_Store/labeled_data.csv\n",
      "当前路径是：../DATA/Labeled_data/0724-7DT-Y1/labeled_data.csv\n",
      "当前文件共有23022行\n",
      "目前共有23022 行\n",
      "当前路径是：../DATA/Labeled_data/0724-7ST-Y1/labeled_data.csv\n",
      "当前文件共有30682行\n",
      "目前共有53704 行\n",
      "当前路径是：../DATA/Labeled_data/0724-7ST-S1/labeled_data.csv\n",
      "当前文件共有20499行\n",
      "目前共有74203 行\n",
      "当前路径是：../DATA/Labeled_data/0724-7DT-S1/labeled_data.csv\n",
      "当前文件共有23775行\n",
      "目前共有97978 行\n",
      "当前路径是：../DATA/Labeled_data/0820-0NC-Y/labeled_data.csv\n",
      "当前文件共有58803行\n",
      "目前共有156781 行\n",
      "当前路径是：../DATA/Labeled_data/0724-7P-Y1/labeled_data.csv\n",
      "当前文件共有26122行\n",
      "目前共有182903 行\n",
      "当前路径是：../DATA/Labeled_data/0724-7P-S1/labeled_data.csv\n",
      "当前文件共有18024行\n",
      "目前共有200927 行\n",
      "当前路径是：../DATA/Labeled_data/0724-7G-S1/labeled_data.csv\n",
      "当前文件共有22884行\n",
      "目前共有223811 行\n",
      "当前路径是：../DATA/Labeled_data/0724-7G-Y1/labeled_data.csv\n",
      "当前文件共有30971行\n",
      "目前共有254782 行\n",
      "共有254782 行\n"
     ]
    }
   ],
   "source": [
    "# 先验证文件总行数是否一致，应是原来数据行数的两倍\n",
    "data_folder = '../DATA/Labeled_data'\n",
    "total_row = 0\n",
    "for folder_name in os.listdir(data_folder):\n",
    "    folder_path = os.path.join(data_folder,folder_name)\n",
    "    file_path = os.path.join(folder_path,'labeled_data.csv')\n",
    "    print(f\"当前路径是：{file_path}\")\n",
    "\n",
    "    if os.path.isfile(file_path):\n",
    "        df = pd.read_csv(file_path)\n",
    "        row_count = len(df)\n",
    "        print(f\"当前文件共有{row_count}行\")\n",
    "        total_row += row_count\n",
    "        print(f\"目前共有{total_row} 行\")\n",
    "print(f\"共有{total_row} 行\")"
   ]
  },
  {
   "cell_type": "code",
   "execution_count": 10,
   "metadata": {},
   "outputs": [
    {
     "name": "stdout",
     "output_type": "stream",
     "text": [
      "there are 453 contact block\n"
     ]
    }
   ],
   "source": [
    "#验证\n",
    "\n",
    "window_data= pd.read_csv(\"/Users/shangyu/Documents/GitHub/tactileGestureDetection/DATA/labeled_data_window.csv\")\n",
    "window_data.columns\n",
    "window_data.head()\n",
    "grouped_data = window_data.groupby(['window_id','tactile_type_window'])\n",
    "grouped_data\n",
    "# for name, group in grouped_data:\n",
    "#     print(f\"Group name: {name}\")\n",
    "#     print(group)\n",
    "\n",
    "contact_count = window_data['contact_id'].unique()\n",
    "# contact_count\n",
    "print(f\"there are {len(contact_count)} contact block\") # 453-511=58 少了58个contact block, 为什么？"
   ]
  },
  {
   "cell_type": "code",
   "execution_count": 4,
   "metadata": {},
   "outputs": [
    {
     "name": "stdout",
     "output_type": "stream",
     "text": [
      "there are 511 contact block\n"
     ]
    }
   ],
   "source": [
    "contact_data= pd.read_csv(\"/Users/shangyu/Documents/GitHub/tactileGestureDetection/DATA/tactile_dataset_contact.csv\")\n",
    "contact_counts = contact_data['contact_id'].nunique()\n",
    "print(f\"there are {contact_counts} contact block\")"
   ]
  },
  {
   "cell_type": "code",
   "execution_count": null,
   "metadata": {},
   "outputs": [],
   "source": [
    "# 单个文件验证\n"
   ]
  }
 ],
 "metadata": {
  "kernelspec": {
   "display_name": "base",
   "language": "python",
   "name": "python3"
  },
  "language_info": {
   "codemirror_mode": {
    "name": "ipython",
    "version": 3
   },
   "file_extension": ".py",
   "mimetype": "text/x-python",
   "name": "python",
   "nbconvert_exporter": "python",
   "pygments_lexer": "ipython3",
   "version": "3.10.9"
  }
 },
 "nbformat": 4,
 "nbformat_minor": 2
}
