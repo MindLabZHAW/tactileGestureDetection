{
 "cells": [
  {
   "cell_type": "markdown",
   "metadata": {},
   "source": [
    "This file is to accaculate the accuracy,Precision,Recall,F1-score of models\n",
    "At first, ignore the time delay\n",
    "Accuracy 的判断标准是：\n",
    "Correct_i = 1, if (label_i=0 and touch_type_idx_i=0)\n",
    "            1, if (label_i=1 and touch_type_idx_i=GT)\n",
    "            0, otherwise\n",
    "​其中：label_map_TCNN = { 0:\"NC\",1:\"ST\", 2:\"P\", 3:\"G\"}\n",
    "GT 是 ground truth（真实的手势类别）\n",
    "\"ST\" → touch_type_idx == 1\n",
    "\"P\" → touch_type_idx == 2\n",
    "\"G\" → touch_type_idx == 3\n",
    "然后计算准确率：\n",
    "Accuracy=∑𝑖Correct_𝑖/𝑁\n",
    "\n",
    "考虑延迟的情况：\n",
    "对于每个 label=1（表示实际发生接触）的时间点 t，在模型预测中寻找时间范围 [t, t + Ts] 内的预测结果。如果在此时间窗口内模型正确识别了手势，则视为一次正确预测。\n",
    "​\n",
    " \n",
    "​\n",
    " \n"
   ]
  },
  {
   "cell_type": "code",
   "execution_count": 11,
   "metadata": {},
   "outputs": [
    {
     "name": "stdout",
     "output_type": "stream",
     "text": [
      "Accuracy: 90.32%\n",
      "Precision: 33.51%\n",
      "Recall: 33.64%\n",
      "F1-score: 33.29%\n"
     ]
    },
    {
     "name": "stderr",
     "output_type": "stream",
     "text": [
      "/Users/shangyu/anaconda3/lib/python3.10/site-packages/sklearn/metrics/_classification.py:1531: UndefinedMetricWarning: Recall is ill-defined and being set to 0.0 in labels with no true samples. Use `zero_division` parameter to control this behavior.\n",
      "  _warn_prf(average, modifier, f\"{metric.capitalize()} is\", len(result))\n"
     ]
    }
   ],
   "source": [
    "# 不考虑延迟\n",
    "import pandas as pd\n",
    "from sklearn.metrics import precision_score, recall_score, f1_score\n",
    "\n",
    "# 读取 CSV 文件\n",
    "df = pd.read_csv(\"../DATA/Labeled_data/0213_2LCNN_Post1_ST/labeled_modelResult_data.csv\")\n",
    "\n",
    "# 提取 Ground Truth (GT) 手势类别\n",
    "gesture_mapping = {\"NC\": 0, \"ST\": 1, \"P\": 2, \"G\": 3}\n",
    "folder_name = \"0213_2LCNN_Post1_ST\"  # 文件夹名称\n",
    "gt_label = folder_name.split(\"_\")[-1]  # 提取 \"ST\", \"P\", or \"G\"\n",
    "gt_idx = gesture_mapping.get(gt_label, -1)  # 获取对应 touch_type_idx\n",
    "\n",
    "# 计算正确预测的情况\n",
    "df[\"correct\"] = ((df[\"label\"] == 0) & (df[\"touch_type_idx\"] == 0)) | \\\n",
    "                ((df[\"label\"] == 1) & (df[\"touch_type_idx\"] == gt_idx))\n",
    "\n",
    "accuracy = df[\"correct\"].mean()\n",
    "y_true = df[\"label\"].replace({0: 0, 1: gt_idx})  # 0 表示无触碰, 1 表示当前手势类别\n",
    "y_pred = df[\"touch_type_idx\"]\n",
    "\n",
    "precision = precision_score(y_true, y_pred, average=\"macro\")\n",
    "recall = recall_score(y_true, y_pred, average=\"macro\")\n",
    "f1 = f1_score(y_true, y_pred, average=\"macro\")\n",
    "\n",
    "\n",
    "\n",
    "# 输出结果\n",
    "\n",
    "print(f\"Accuracy: {accuracy:.2%}\")\n",
    "print(f\"Precision: {precision:.2%}\")\n",
    "print(f\"Recall: {recall:.2%}\")\n",
    "print(f\"F1-score: {f1:.2%}\")\n",
    "# df[(df['label'] == 1) & (df['touch_type_idx'] != 1)]\n"
   ]
  },
  {
   "cell_type": "code",
   "execution_count": 13,
   "metadata": {},
   "outputs": [
    {
     "name": "stdout",
     "output_type": "stream",
     "text": [
      "Accuracy (considering delay): 93.24%\n",
      "Precision: 33.51%\n",
      "Recall: 33.64%\n",
      "F1-score: 33.29%\n"
     ]
    }
   ],
   "source": [
    "# T秒的延迟\n",
    "import pandas as pd\n",
    "from sklearn.metrics import precision_score, recall_score, f1_score\n",
    "\n",
    "# 读取数据\n",
    "df = pd.read_csv(\"../DATA/Labeled_data/0213_2LCNN_Post1_ST/labeled_modelResult_data.csv\")\n",
    "\n",
    "# 提取 Ground Truth (GT) 手势类别\n",
    "gesture_mapping = {\"NC\": 0, \"ST\": 1, \"P\": 2, \"G\": 3}\n",
    "folder_name = \"0213_2LCNN_Post1_ST\"  # 文件夹名称\n",
    "gt_label = folder_name.split(\"_\")[-1]  # 提取 \"ST\", \"P\", or \"G\"\n",
    "gt_idx = gesture_mapping.get(gt_label, -1)  # 获取对应 touch_type_idx\n",
    "\n",
    "# 定义时间延迟 Ts\n",
    "Ts = 3  \n",
    "\n",
    "# 初始化正确预测列表\n",
    "correct_predictions = []\n",
    "\n",
    "# 遍历数据集\n",
    "for i, row in df.iterrows():\n",
    "    if row[\"label\"] == 1:\n",
    "        # 查找时间范围 [t, t + Ts] 内的预测\n",
    "        t = row[\"time\"]\n",
    "        window = df[(df[\"time\"] >= t) & (df[\"time\"] <= t + Ts)]\n",
    "        if any(window[\"touch_type_idx\"] == gt_idx):\n",
    "            correct_predictions.append(1)\n",
    "        else:\n",
    "            correct_predictions.append(0)\n",
    "    else:\n",
    "        # 对于 label=0 的情况，直接比较\n",
    "        correct_predictions.append(1 if row[\"touch_type_idx\"] == 0 else 0)\n",
    "\n",
    "# 将结果添加到数据框\n",
    "df[\"correct\"] = correct_predictions\n",
    "\n",
    "# 计算准确率\n",
    "accuracy = df[\"correct\"].mean()\n",
    "print(f\"Accuracy (considering delay): {accuracy:.2%}\")\n",
    "\n",
    "# 计算 Precision, Recall, F1-score\n",
    "# 创建新的标签，考虑延迟\n",
    "y_true = df[\"label\"].replace({0: 0, 1: gt_idx})\n",
    "y_pred = df[\"touch_type_idx\"]\n",
    "\n",
    "precision = precision_score(y_true, y_pred, average='macro', zero_division=0)\n",
    "recall = recall_score(y_true, y_pred, average='macro', zero_division=0)\n",
    "f1 = f1_score(y_true, y_pred, average='macro', zero_division=0)\n",
    "\n",
    "print(f\"Precision: {precision:.2%}\")\n",
    "print(f\"Recall: {recall:.2%}\")\n",
    "print(f\"F1-score: {f1:.2%}\")\n"
   ]
  }
 ],
 "metadata": {
  "kernelspec": {
   "display_name": "base",
   "language": "python",
   "name": "python3"
  },
  "language_info": {
   "codemirror_mode": {
    "name": "ipython",
    "version": 3
   },
   "file_extension": ".py",
   "mimetype": "text/x-python",
   "name": "python",
   "nbconvert_exporter": "python",
   "pygments_lexer": "ipython3",
   "version": "3.10.9"
  }
 },
 "nbformat": 4,
 "nbformat_minor": 2
}
