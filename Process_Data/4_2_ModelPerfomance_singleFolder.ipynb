{
 "cells": [
  {
   "cell_type": "markdown",
   "metadata": {},
   "source": [
    "这个文件是单个文件的准确度，延迟和抖动的计算\n",
    "不考虑延迟：\n",
    "Accuracy 的判断标准是：\n",
    "Correct_i = 1, if (label_i==0 and touch_type_idx_i==0)\n",
    "            1, if (label_i==1 and touch_type_idx_i==GT)\n",
    "            0, otherwise\n",
    "​其中：label_map_TCNN = { 0:\"NC\",1:\"ST\", 2:\"P\", 3:\"G\"}\n",
    "GT 是 ground truth（真实的手势类别）\n",
    "\"ST\" → touch_type_idx == 1\n",
    "\"P\" → touch_type_idx == 2\n",
    "\"G\" → touch_type_idx == 3\n",
    "然后计算准确率：\n",
    "Accuracy=∑𝑖Correct_𝑖/𝑁\n",
    "\n",
    "考虑延迟：\n",
    "计算延迟时间T的方法，用第一个label==1 对应的时间 减去 第一个touch_type_idx ！= 0的时间 得到延迟时间T\n",
    "\n",
    "在考虑延迟的情况下计算准确率的标准是：\n",
    "Correct_i = 1, if (label_i==0 and touch_type_idx_(i+T)==0)\n",
    "            1, if (label_i==1 and touch_type_idx_(i+t)==GT)\n",
    "            0, otherwise\n",
    "当i+T out of range 时就停止。\n",
    "GT 是 ground truth（真实的手势类别）\n",
    "\"ST\" → touch_type_idx == 1\n",
    "\"P\" → touch_type_idx == 2\n",
    "\"G\" → touch_type_idx == 3\n",
    "然后计算准确率：\n",
    "Accuracy=∑𝑖Correct_𝑖/𝑁\n"
   ]
  },
  {
   "cell_type": "code",
   "execution_count": 16,
   "metadata": {},
   "outputs": [
    {
     "name": "stderr",
     "output_type": "stream",
     "text": [
      "/var/folders/md/q4f_fj2d0xg_bb3d94c5z6vc0000gn/T/ipykernel_10355/3608394370.py:4: DeprecationWarning: Importing display from IPython.core.display is deprecated since IPython 7.14, please import from IPython display\n",
      "  from IPython.core.display import display, HTML\n"
     ]
    },
    {
     "name": "stdout",
     "output_type": "stream",
     "text": [
      "Accuracy: 90.32%\n",
      "Precision: 33.51%\n",
      "Recall: 33.64%\n",
      "F1-score: 33.29%\n"
     ]
    },
    {
     "name": "stderr",
     "output_type": "stream",
     "text": [
      "/Users/shangyu/anaconda3/lib/python3.10/site-packages/sklearn/metrics/_classification.py:1531: UndefinedMetricWarning: Recall is ill-defined and being set to 0.0 in labels with no true samples. Use `zero_division` parameter to control this behavior.\n",
      "  _warn_prf(average, modifier, f\"{metric.capitalize()} is\", len(result))\n"
     ]
    }
   ],
   "source": [
    "# 不考虑延迟\n",
    "import pandas as pd\n",
    "from sklearn.metrics import precision_score, recall_score, f1_score\n",
    "from IPython.core.display import display, HTML\n",
    "\n",
    "# 读取 CSV 文件\n",
    "df = pd.read_csv(\"../DATA/Labeled_data/0213_2LCNN_Post1_ST/labeled_modelResult_data.csv\")\n",
    "folder_name = \"0213_2LCNN_Post1_ST\"  # 文件夹名称\n",
    "# 提取 Ground Truth (GT) 手势类别\n",
    "gesture_mapping = {\"NC\": 0, \"ST\": 1, \"P\": 2, \"G\": 3}\n",
    "\n",
    "gt_label = folder_name.split(\"_\")[-1]  # 提取 \"ST\", \"P\", or \"G\"\n",
    "gt_idx = gesture_mapping.get(gt_label, -1)  # 获取对应 touch_type_idx\n",
    "\n",
    "# 计算正确预测的情况\n",
    "df[\"correct\"] = ((df[\"label\"] == 0) & (df[\"touch_type_idx\"] == 0)) | \\\n",
    "                ((df[\"label\"] == 1) & (df[\"touch_type_idx\"] == gt_idx))\n",
    "\n",
    "accuracy = df[\"correct\"].mean()\n",
    "y_true = df[\"label\"].replace({0: 0, 1: gt_idx})  # 0 表示无触碰, 1 表示当前手势类别\n",
    "y_pred = df[\"touch_type_idx\"]\n",
    "\n",
    "precision = precision_score(y_true, y_pred, average=\"macro\")\n",
    "recall = recall_score(y_true, y_pred, average=\"macro\")\n",
    "f1 = f1_score(y_true, y_pred, average=\"macro\")\n",
    "\n",
    "\n",
    "\n",
    "# 输出结果\n",
    "\n",
    "print(f\"Accuracy: {accuracy:.2%}\")\n",
    "print(f\"Precision: {precision:.2%}\")\n",
    "print(f\"Recall: {recall:.2%}\")\n",
    "print(f\"F1-score: {f1:.2%}\")\n",
    "# df\n",
    "# df[(df['label'] == 1) & (df['touch_type_idx'] != 1)]\n",
    "# displaydf = df[['time', 'label', 'touch_type_idx', 'correct']]\n",
    "# display(HTML(displaydf.to_html(max_rows=500))) \n"
   ]
  },
  {
   "cell_type": "code",
   "execution_count": 13,
   "metadata": {},
   "outputs": [
    {
     "name": "stdout",
     "output_type": "stream",
     "text": [
      "index_label_time is 1013\n",
      "index_model_time is 1559\n",
      "Accuracy (considering delay): 89.41%\n",
      "delayed time is 2.729235987062566\n",
      "the delayed index amount is 546\n"
     ]
    }
   ],
   "source": [
    "# 考虑延迟的情况下计算准确率\n",
    "import pandas as pd\n",
    "\n",
    "# 读取数据\n",
    "df = pd.read_csv(\"../DATA/Labeled_data/0213_2LCNN_Post1_ST/labeled_modelResult_data.csv\")\n",
    "\n",
    "length = len(df)\n",
    "\n",
    "# 提取 Ground Truth (GT) 手势类别\n",
    "gesture_mapping = {\"NC\": 0, \"ST\": 1, \"P\": 2, \"G\": 3}\n",
    "folder_name = \"0213_2LCNN_Post1_ST\"  # 文件夹名称\n",
    "gt_label = folder_name.split(\"_\")[-1]  # 提取 \"ST\", \"P\", or \"G\"\n",
    "gt_idx = gesture_mapping.get(gt_label, -1)  # 获取对应 touch_type_idx\n",
    "\n",
    "# 计算延迟时间 T\n",
    "Time_label, Time_model = None, None\n",
    "index_label_time, index_model_time = None, None\n",
    "\n",
    "# 找到第一个 label == 1 的时间\n",
    "for i in range(length):\n",
    "    if df.loc[i, \"label\"] == 1:\n",
    "        Time_label = df.loc[i, \"time\"]\n",
    "        index_label_time = i\n",
    "        print(f\"index_label_time is {i}\")\n",
    "        break  # 只取第一个\n",
    "\n",
    "# 找到第一个 touch_type_idx != 0 的时间\n",
    "for i in range(length):\n",
    "    if df.loc[i, \"touch_type_idx\"] != 0:\n",
    "        Time_model = df.loc[i, \"model_result_time\"]\n",
    "        index_model_time = i\n",
    "        print(f\"index_model_time is {i}\")\n",
    "        break  # 只取第一个\n",
    "\n",
    "# 确保找到了两个时间点\n",
    "if Time_label is None or Time_model is None:\n",
    "    raise ValueError(\"未找到 label == 1 或 touch_type_idx != 0 的时间点\")\n",
    "\n",
    "# 计算延迟时间 T\n",
    "T_delay = Time_model - Time_label\n",
    "index_diff = index_model_time - index_label_time  # 计算索引偏移量\n",
    "\n",
    "# 计算正确预测的情况\n",
    "correct_predictions = []\n",
    "for i in range(length - index_diff):\n",
    "    if i + index_diff >= length:\n",
    "        break  # 超出索引范围时停止\n",
    "\n",
    "    label_i = df.loc[i, \"label\"]\n",
    "    touch_type_idx_iT = df.loc[i + index_diff, \"touch_type_idx\"]\n",
    "\n",
    "    if (label_i == 0 and touch_type_idx_iT == 0) or (label_i == 1 and touch_type_idx_iT == gt_idx):\n",
    "        correct_predictions.append(1)\n",
    "    else:\n",
    "        correct_predictions.append(0)\n",
    "\n",
    "# 计算准确率\n",
    "accuracy = sum(correct_predictions) / len(correct_predictions) if correct_predictions else 0\n",
    "print(f\"Accuracy (considering delay): {accuracy:.2%}\")\n",
    "print(f\"delayed time is {T_delay}\")\n",
    "print(f\"the delayed index amount is {index_diff}\")\n",
    "\n",
    "# 计算抖动\n",
    "import numpy as np\n",
    "jitter_count = np.sum(np.diff(df['touch_type_idx'].to_numpy()) != 0)# 统计变化次数\n",
    "\n",
    "print(f\"抖动次数: {jitter_count}\")\n"
   ]
  },
  {
   "cell_type": "code",
   "execution_count": 15,
   "metadata": {},
   "outputs": [
    {
     "name": "stdout",
     "output_type": "stream",
     "text": [
      "抖动次数: 22\n"
     ]
    }
   ],
   "source": [
    "# 计算抖动\n",
    "import numpy as np\n",
    "# array = np.array((0,0,1,1,1,1,2,2,2,3,3,0,0,1,2,3,0))\n",
    "jitter_count = np.sum(np.diff(df['touch_type_idx'].to_numpy()) != 0)# 统计变化次数\n",
    "# jitter_count = np.sum(np.diff(array) != 0)# 统计变化次数\n",
    "\n",
    "print(f\"抖动次数: {jitter_count}\")"
   ]
  }
 ],
 "metadata": {
  "kernelspec": {
   "display_name": "base",
   "language": "python",
   "name": "python3"
  },
  "language_info": {
   "codemirror_mode": {
    "name": "ipython",
    "version": 3
   },
   "file_extension": ".py",
   "mimetype": "text/x-python",
   "name": "python",
   "nbconvert_exporter": "python",
   "pygments_lexer": "ipython3",
   "version": "3.10.9"
  }
 },
 "nbformat": 4,
 "nbformat_minor": 2
}
