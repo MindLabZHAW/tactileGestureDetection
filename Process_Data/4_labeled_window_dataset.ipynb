{
 "cells": [
  {
   "cell_type": "code",
   "execution_count": 2,
   "metadata": {},
   "outputs": [
    {
     "name": "stdout",
     "output_type": "stream",
     "text": [
      "../DATA/labeled_window_dataset.csv 文件已生成，总行数 = 244692\n"
     ]
    }
   ],
   "source": [
    "# 用窗口取数\n",
    "import os\n",
    "import pandas as pd\n",
    "\n",
    "# 参数设置\n",
    "window_size = 28\n",
    "step_size = 14\n",
    "\n",
    "# 读取数据\n",
    "input_file = '../DATA/labeled_tactile_dataset_clean.csv'\n",
    "output_file = '../DATA/labeled_window_dataset.csv'\n",
    "\n",
    "df = pd.read_csv(input_file)\n",
    "\n",
    "# 初始化存储窗口信息的列表\n",
    "windowed_data = []\n",
    "\n",
    "# 初始化 window_id\n",
    "window_id = 0\n",
    "\n",
    "# 循环以 step_size 步长遍历数据\n",
    "for start in range(0, len(df) - window_size + 1, step_size):\n",
    "    end = start + window_size\n",
    "    window = df.iloc[start:end].copy()\n",
    "    \n",
    "    # 生成 window_id\n",
    "    window['window_id'] = window_id\n",
    "    window_id += 1  # 每次迭代增加 window_id\n",
    "    \n",
    "    # 判断窗口内 touch_type 是否全为 'NC'\n",
    "    unique_touch_types = window['touch_type'].unique()\n",
    "    if len(unique_touch_types) == 1 and unique_touch_types[0] == 'NC':\n",
    "        window_touch_type = 'NC'\n",
    "    else:\n",
    "        # 如果不是全为 'NC'，取窗口内唯一的非 'NC' 的 touch_type\n",
    "        non_nc_touch_types = [t for t in unique_touch_types if t != 'NC']\n",
    "        window_touch_type = non_nc_touch_types[0] if non_nc_touch_types else 'NC'\n",
    "    \n",
    "    # 给窗口内所有行赋值 window_touch_type\n",
    "    window['window_touch_type'] = window_touch_type\n",
    "    \n",
    "    # 添加窗口数据到列表\n",
    "    windowed_data.append(window)\n",
    "\n",
    "# 合并所有窗口数据\n",
    "windowed_df = pd.concat(windowed_data, ignore_index=True)\n",
    "\n",
    "# 删除已存在的文件\n",
    "if os.path.exists(output_file):\n",
    "    os.remove(output_file)\n",
    "\n",
    "# 保存到新的CSV文件\n",
    "windowed_df.to_csv(output_file, index=False)\n",
    "\n",
    "print(f\"{output_file} 文件已生成，总行数 = {len(windowed_df)}\")\n"
   ]
  },
  {
   "cell_type": "code",
   "execution_count": 6,
   "metadata": {},
   "outputs": [
    {
     "name": "stdout",
     "output_type": "stream",
     "text": [
      "      window_id window_touch_type touch_type  count\n",
      "0             0                NC         NC     28\n",
      "1             1                NC         NC     28\n",
      "2             2                NC         NC     28\n",
      "3             3                NC         NC     28\n",
      "4             4                NC         NC     28\n",
      "...         ...               ...        ...    ...\n",
      "8767       8734                 G          G     28\n",
      "8768       8735                 G          G     28\n",
      "8769       8736                 G          G     28\n",
      "8770       8737                 G          G     28\n",
      "8771       8738                 G          G     28\n",
      "\n",
      "[8772 rows x 4 columns]\n"
     ]
    }
   ],
   "source": [
    "dt = pd.read_csv('../DATA/labeled_window_dataset.csv')\n",
    "dt\n",
    "# dt[dt['window_touch_type']=='ST']['window_id'].nunique()\n",
    "grouped = dt.groupby(['window_id', 'window_touch_type', 'touch_type']).size().reset_index(name='count')\n",
    "# # 展示结果\n",
    "print(grouped)\n",
    "# dt[dt['window_id']==0]\n",
    "# print(len(dt)/28)"
   ]
  },
  {
   "cell_type": "code",
   "execution_count": 7,
   "metadata": {},
   "outputs": [
    {
     "name": "stdout",
     "output_type": "stream",
     "text": [
      "window_touch_type\n",
      "DT     835\n",
      "G     1627\n",
      "NC    4238\n",
      "P     1574\n",
      "ST     465\n",
      "Name: window_id, dtype: int64\n"
     ]
    }
   ],
   "source": [
    "print(dt.groupby('window_touch_type')['window_id'].nunique())"
   ]
  }
 ],
 "metadata": {
  "kernelspec": {
   "display_name": "base",
   "language": "python",
   "name": "python3"
  },
  "language_info": {
   "codemirror_mode": {
    "name": "ipython",
    "version": 3
   },
   "file_extension": ".py",
   "mimetype": "text/x-python",
   "name": "python",
   "nbconvert_exporter": "python",
   "pygments_lexer": "ipython3",
   "version": "3.10.9"
  }
 },
 "nbformat": 4,
 "nbformat_minor": 2
}
